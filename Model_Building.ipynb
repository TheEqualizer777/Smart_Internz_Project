{
 "cells": [
  {
   "cell_type": "code",
   "execution_count": 1,
   "metadata": {},
   "outputs": [],
   "source": [
    "from tensorflow.keras.models import Sequential\n",
    "from tensorflow.keras.layers import Dense, Convolution2D, MaxPooling2D, Flatten\n",
    "from tensorflow.keras.preprocessing.image import ImageDataGenerator"
   ]
  },
  {
   "cell_type": "code",
   "execution_count": 2,
   "metadata": {},
   "outputs": [],
   "source": [
    "train_datagen = ImageDataGenerator(rescale= 1./255, shear_range = 0.2, zoom_range = 0.2, horizontal_flip = True)\n",
    "test_datagen = ImageDataGenerator(rescale= 1./255)"
   ]
  },
  {
   "cell_type": "code",
   "execution_count": 3,
   "metadata": {},
   "outputs": [
    {
     "name": "stdout",
     "output_type": "stream",
     "text": [
      "Found 993 images belonging to 3 classes.\n",
      "Found 353 images belonging to 3 classes.\n"
     ]
    }
   ],
   "source": [
    "x_train = train_datagen.flow_from_directory(r\"dataset\\train_set\", target_size = (64,64))\n",
    "x_test = test_datagen.flow_from_directory(r\"dataset\\test_set\", target_size = (64,64))"
   ]
  },
  {
   "cell_type": "code",
   "execution_count": 4,
   "metadata": {},
   "outputs": [],
   "source": [
    "cnn = Sequential()"
   ]
  },
  {
   "cell_type": "code",
   "execution_count": 5,
   "metadata": {},
   "outputs": [
    {
     "name": "stdout",
     "output_type": "stream",
     "text": [
      "WARNING:tensorflow:From C:\\Users\\sahar\\Anaconda3\\lib\\site-packages\\tensorflow\\python\\ops\\init_ops.py:1251: calling VarianceScaling.__init__ (from tensorflow.python.ops.init_ops) with dtype is deprecated and will be removed in a future version.\n",
      "Instructions for updating:\n",
      "Call initializer instance with the dtype argument instead of passing it to the constructor\n"
     ]
    }
   ],
   "source": [
    "cnn.add(Convolution2D(32, (3,3), input_shape=(64,64, 3)))\n",
    "cnn.add(MaxPooling2D((2,2)))"
   ]
  },
  {
   "cell_type": "code",
   "execution_count": 6,
   "metadata": {},
   "outputs": [],
   "source": [
    "cnn.add(Flatten())"
   ]
  },
  {
   "cell_type": "code",
   "execution_count": 7,
   "metadata": {},
   "outputs": [
    {
     "name": "stdout",
     "output_type": "stream",
     "text": [
      "WARNING:tensorflow:From C:\\Users\\sahar\\Anaconda3\\lib\\site-packages\\tensorflow\\python\\keras\\initializers.py:119: calling RandomUniform.__init__ (from tensorflow.python.ops.init_ops) with dtype is deprecated and will be removed in a future version.\n",
      "Instructions for updating:\n",
      "Call initializer instance with the dtype argument instead of passing it to the constructor\n"
     ]
    }
   ],
   "source": [
    "cnn.add(Dense(units = 128 , kernel_initializer = \"random_uniform\", activation = \"relu\"))"
   ]
  },
  {
   "cell_type": "code",
   "execution_count": 8,
   "metadata": {},
   "outputs": [],
   "source": [
    "cnn.add(Dense(units = 3 , kernel_initializer = \"random_uniform\", activation = \"softmax\"))"
   ]
  },
  {
   "cell_type": "code",
   "execution_count": 9,
   "metadata": {},
   "outputs": [],
   "source": [
    "cnn.compile(optimizer = \"rmsprop\", loss = \"categorical_crossentropy\", metrics = [\"accuracy\"])"
   ]
  },
  {
   "cell_type": "code",
   "execution_count": 10,
   "metadata": {},
   "outputs": [
    {
     "name": "stdout",
     "output_type": "stream",
     "text": [
      "Epoch 1/35\n",
      "32/31 [==============================] - 9s 267ms/step - loss: 1.4020 - acc: 0.4300 - val_loss: 0.9445 - val_acc: 0.5666\n",
      "Epoch 2/35\n",
      "32/31 [==============================] - 7s 228ms/step - loss: 0.9479 - acc: 0.5448 - val_loss: 0.9538 - val_acc: 0.5751\n",
      "Epoch 3/35\n",
      "32/31 [==============================] - 7s 224ms/step - loss: 0.8651 - acc: 0.6032 - val_loss: 0.8662 - val_acc: 0.6232\n",
      "Epoch 4/35\n",
      "32/31 [==============================] - 7s 230ms/step - loss: 0.7611 - acc: 0.6566 - val_loss: 0.8296 - val_acc: 0.6657\n",
      "Epoch 5/35\n",
      "32/31 [==============================] - 7s 230ms/step - loss: 0.7384 - acc: 0.6888 - val_loss: 0.7960 - val_acc: 0.6459\n",
      "Epoch 6/35\n",
      "32/31 [==============================] - 7s 226ms/step - loss: 0.6656 - acc: 0.7200 - val_loss: 1.0405 - val_acc: 0.6232\n",
      "Epoch 7/35\n",
      "32/31 [==============================] - 8s 237ms/step - loss: 0.7339 - acc: 0.7593 - val_loss: 0.8999 - val_acc: 0.6714\n",
      "Epoch 8/35\n",
      "32/31 [==============================] - 7s 230ms/step - loss: 0.5814 - acc: 0.7533 - val_loss: 0.9718 - val_acc: 0.6572\n",
      "Epoch 9/35\n",
      "32/31 [==============================] - 7s 220ms/step - loss: 0.5333 - acc: 0.7553 - val_loss: 0.7593 - val_acc: 0.6941\n",
      "Epoch 10/35\n",
      "32/31 [==============================] - 7s 232ms/step - loss: 0.4766 - acc: 0.7875 - val_loss: 1.0583 - val_acc: 0.6799\n",
      "Epoch 11/35\n",
      "32/31 [==============================] - 7s 220ms/step - loss: 0.4895 - acc: 0.7915 - val_loss: 0.8115 - val_acc: 0.6827\n",
      "Epoch 12/35\n",
      "32/31 [==============================] - 7s 226ms/step - loss: 0.4228 - acc: 0.8238 - val_loss: 1.0730 - val_acc: 0.6799\n",
      "Epoch 13/35\n",
      "32/31 [==============================] - 7s 222ms/step - loss: 0.4168 - acc: 0.8228 - val_loss: 0.8230 - val_acc: 0.7422\n",
      "Epoch 14/35\n",
      "32/31 [==============================] - 8s 235ms/step - loss: 0.3811 - acc: 0.8459 - val_loss: 0.7345 - val_acc: 0.7252\n",
      "Epoch 15/35\n",
      "32/31 [==============================] - 7s 221ms/step - loss: 0.3357 - acc: 0.8661 - val_loss: 0.8883 - val_acc: 0.7252\n",
      "Epoch 16/35\n",
      "32/31 [==============================] - 7s 230ms/step - loss: 0.3261 - acc: 0.8691 - val_loss: 0.8687 - val_acc: 0.6884\n",
      "Epoch 17/35\n",
      "32/31 [==============================] - 7s 206ms/step - loss: 0.3024 - acc: 0.8812 - val_loss: 1.1082 - val_acc: 0.7195\n",
      "Epoch 18/35\n",
      "32/31 [==============================] - 8s 242ms/step - loss: 0.3050 - acc: 0.8721 - val_loss: 0.9314 - val_acc: 0.7337\n",
      "Epoch 19/35\n",
      "32/31 [==============================] - 7s 221ms/step - loss: 0.2574 - acc: 0.9033 - val_loss: 1.0311 - val_acc: 0.7110\n",
      "Epoch 20/35\n",
      "32/31 [==============================] - 7s 228ms/step - loss: 0.2536 - acc: 0.8953 - val_loss: 1.0710 - val_acc: 0.7309\n",
      "Epoch 21/35\n",
      "32/31 [==============================] - 7s 225ms/step - loss: 0.2075 - acc: 0.9204 - val_loss: 0.9635 - val_acc: 0.7649\n",
      "Epoch 22/35\n",
      "32/31 [==============================] - 7s 231ms/step - loss: 0.2219 - acc: 0.9225 - val_loss: 1.0368 - val_acc: 0.7592\n",
      "Epoch 23/35\n",
      "32/31 [==============================] - 7s 219ms/step - loss: 0.2072 - acc: 0.9245 - val_loss: 0.9942 - val_acc: 0.7620\n",
      "Epoch 24/35\n",
      "32/31 [==============================] - 7s 234ms/step - loss: 0.1629 - acc: 0.9396 - val_loss: 1.0911 - val_acc: 0.7394\n",
      "Epoch 25/35\n",
      "32/31 [==============================] - 7s 220ms/step - loss: 0.2088 - acc: 0.9164 - val_loss: 1.4056 - val_acc: 0.7082\n",
      "Epoch 26/35\n",
      "32/31 [==============================] - 7s 230ms/step - loss: 0.1884 - acc: 0.9235 - val_loss: 1.3055 - val_acc: 0.7535\n",
      "Epoch 27/35\n",
      "32/31 [==============================] - 7s 216ms/step - loss: 0.1277 - acc: 0.9537 - val_loss: 1.0172 - val_acc: 0.7365\n",
      "Epoch 28/35\n",
      "32/31 [==============================] - 7s 233ms/step - loss: 0.1489 - acc: 0.9426 - val_loss: 1.0919 - val_acc: 0.7535\n",
      "Epoch 29/35\n",
      "32/31 [==============================] - 7s 223ms/step - loss: 0.1400 - acc: 0.9416 - val_loss: 1.2581 - val_acc: 0.7507\n",
      "Epoch 30/35\n",
      "32/31 [==============================] - 7s 222ms/step - loss: 0.1516 - acc: 0.9577 - val_loss: 1.0240 - val_acc: 0.7564\n",
      "Epoch 31/35\n",
      "32/31 [==============================] - 7s 228ms/step - loss: 0.1550 - acc: 0.9597 - val_loss: 1.1927 - val_acc: 0.7479\n",
      "Epoch 32/35\n",
      "32/31 [==============================] - 7s 215ms/step - loss: 0.0854 - acc: 0.9678 - val_loss: 1.3742 - val_acc: 0.7252\n",
      "Epoch 33/35\n",
      "32/31 [==============================] - 7s 215ms/step - loss: 0.1266 - acc: 0.9567 - val_loss: 1.3455 - val_acc: 0.7394\n",
      "Epoch 34/35\n",
      "32/31 [==============================] - 7s 232ms/step - loss: 0.1556 - acc: 0.9557 - val_loss: 1.2853 - val_acc: 0.7365\n",
      "Epoch 35/35\n",
      "32/31 [==============================] - 7s 223ms/step - loss: 0.0632 - acc: 0.9789 - val_loss: 1.1675 - val_acc: 0.7337\n"
     ]
    },
    {
     "data": {
      "text/plain": [
       "<tensorflow.python.keras.callbacks.History at 0x1dbfca1eb00>"
      ]
     },
     "execution_count": 10,
     "metadata": {},
     "output_type": "execute_result"
    }
   ],
   "source": [
    "cnn.fit_generator(x_train, steps_per_epoch = 993/32, epochs = 35, validation_data = x_test, validation_steps = 353/32)"
   ]
  },
  {
   "cell_type": "code",
   "execution_count": null,
   "metadata": {},
   "outputs": [],
   "source": [
    "cnn.save(r\"C:\\Users\\sahar\\Documents\\Externship\\animal.h5\")"
   ]
  }
 ],
 "metadata": {
  "kernelspec": {
   "display_name": "Python 3",
   "language": "python",
   "name": "python3"
  },
  "language_info": {
   "codemirror_mode": {
    "name": "ipython",
    "version": 3
   },
   "file_extension": ".py",
   "mimetype": "text/x-python",
   "name": "python",
   "nbconvert_exporter": "python",
   "pygments_lexer": "ipython3",
   "version": "3.7.3"
  }
 },
 "nbformat": 4,
 "nbformat_minor": 2
}
